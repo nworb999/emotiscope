{
  "nbformat": 4,
  "nbformat_minor": 0,
  "metadata": {
    "colab": {
      "provenance": [],
      "gpuType": "T4",
      "authorship_tag": "ABX9TyNDWWzZeRKWSi/jV2/CKU6N",
      "include_colab_link": true
    },
    "kernelspec": {
      "name": "python3",
      "display_name": "Python 3"
    },
    "language_info": {
      "name": "python"
    },
    "accelerator": "GPU"
  },
  "cells": [
    {
      "cell_type": "markdown",
      "metadata": {
        "id": "view-in-github",
        "colab_type": "text"
      },
      "source": [
        "<a href=\"https://colab.research.google.com/github/nworb999/emotiscope/blob/main/emotoscope.ipynb\" target=\"_parent\"><img src=\"https://colab.research.google.com/assets/colab-badge.svg\" alt=\"Open In Colab\"/></a>"
      ]
    },
    {
      "cell_type": "markdown",
      "source": [
        "# Setup Environment"
      ],
      "metadata": {
        "id": "vg01WmrKT_j3"
      }
    },
    {
      "cell_type": "code",
      "execution_count": null,
      "metadata": {
        "id": "6Cc5kXa335Vu",
        "colab": {
          "base_uri": "https://localhost:8080/"
        },
        "outputId": "19be0ef1-b33f-4369-f6ef-e00871884263"
      },
      "outputs": [
        {
          "output_type": "stream",
          "name": "stdout",
          "text": [
            "Requirement already satisfied: diffusers in /usr/local/lib/python3.10/dist-packages (0.27.2)\n",
            "Requirement already satisfied: transformers in /usr/local/lib/python3.10/dist-packages (4.40.1)\n",
            "Requirement already satisfied: scipy in /usr/local/lib/python3.10/dist-packages (1.11.4)\n",
            "Requirement already satisfied: ftfy in /usr/local/lib/python3.10/dist-packages (6.2.0)\n",
            "Requirement already satisfied: accelerate in /usr/local/lib/python3.10/dist-packages (0.30.0)\n",
            "Requirement already satisfied: torch in /usr/local/lib/python3.10/dist-packages (2.2.1+cu121)\n",
            "Requirement already satisfied: torchvision in /usr/local/lib/python3.10/dist-packages (0.17.1+cu121)\n",
            "Requirement already satisfied: np in /usr/local/lib/python3.10/dist-packages (1.0.2)\n",
            "Requirement already satisfied: opencv-python in /usr/local/lib/python3.10/dist-packages (4.8.0.76)\n",
            "Requirement already satisfied: streamlit in /usr/local/lib/python3.10/dist-packages (1.34.0)\n",
            "Requirement already satisfied: importlib-metadata in /usr/local/lib/python3.10/dist-packages (from diffusers) (7.1.0)\n",
            "Requirement already satisfied: filelock in /usr/local/lib/python3.10/dist-packages (from diffusers) (3.14.0)\n",
            "Requirement already satisfied: huggingface-hub>=0.20.2 in /usr/local/lib/python3.10/dist-packages (from diffusers) (0.20.3)\n",
            "Requirement already satisfied: numpy in /usr/local/lib/python3.10/dist-packages (from diffusers) (1.25.2)\n",
            "Requirement already satisfied: regex!=2019.12.17 in /usr/local/lib/python3.10/dist-packages (from diffusers) (2023.12.25)\n",
            "Requirement already satisfied: requests in /usr/local/lib/python3.10/dist-packages (from diffusers) (2.31.0)\n",
            "Requirement already satisfied: safetensors>=0.3.1 in /usr/local/lib/python3.10/dist-packages (from diffusers) (0.4.3)\n",
            "Requirement already satisfied: Pillow in /usr/local/lib/python3.10/dist-packages (from diffusers) (9.4.0)\n",
            "Requirement already satisfied: packaging>=20.0 in /usr/local/lib/python3.10/dist-packages (from transformers) (24.0)\n",
            "Requirement already satisfied: pyyaml>=5.1 in /usr/local/lib/python3.10/dist-packages (from transformers) (6.0.1)\n",
            "Requirement already satisfied: tokenizers<0.20,>=0.19 in /usr/local/lib/python3.10/dist-packages (from transformers) (0.19.1)\n",
            "Requirement already satisfied: tqdm>=4.27 in /usr/local/lib/python3.10/dist-packages (from transformers) (4.66.2)\n",
            "Requirement already satisfied: wcwidth<0.3.0,>=0.2.12 in /usr/local/lib/python3.10/dist-packages (from ftfy) (0.2.13)\n",
            "Requirement already satisfied: psutil in /usr/local/lib/python3.10/dist-packages (from accelerate) (5.9.5)\n",
            "Requirement already satisfied: typing-extensions>=4.8.0 in /usr/local/lib/python3.10/dist-packages (from torch) (4.11.0)\n",
            "Requirement already satisfied: sympy in /usr/local/lib/python3.10/dist-packages (from torch) (1.12)\n",
            "Requirement already satisfied: networkx in /usr/local/lib/python3.10/dist-packages (from torch) (3.3)\n",
            "Requirement already satisfied: jinja2 in /usr/local/lib/python3.10/dist-packages (from torch) (3.1.3)\n",
            "Requirement already satisfied: fsspec in /usr/local/lib/python3.10/dist-packages (from torch) (2023.6.0)\n",
            "Requirement already satisfied: nvidia-cuda-nvrtc-cu12==12.1.105 in /usr/local/lib/python3.10/dist-packages (from torch) (12.1.105)\n",
            "Requirement already satisfied: nvidia-cuda-runtime-cu12==12.1.105 in /usr/local/lib/python3.10/dist-packages (from torch) (12.1.105)\n",
            "Requirement already satisfied: nvidia-cuda-cupti-cu12==12.1.105 in /usr/local/lib/python3.10/dist-packages (from torch) (12.1.105)\n",
            "Requirement already satisfied: nvidia-cudnn-cu12==8.9.2.26 in /usr/local/lib/python3.10/dist-packages (from torch) (8.9.2.26)\n",
            "Requirement already satisfied: nvidia-cublas-cu12==12.1.3.1 in /usr/local/lib/python3.10/dist-packages (from torch) (12.1.3.1)\n",
            "Requirement already satisfied: nvidia-cufft-cu12==11.0.2.54 in /usr/local/lib/python3.10/dist-packages (from torch) (11.0.2.54)\n",
            "Requirement already satisfied: nvidia-curand-cu12==10.3.2.106 in /usr/local/lib/python3.10/dist-packages (from torch) (10.3.2.106)\n",
            "Requirement already satisfied: nvidia-cusolver-cu12==11.4.5.107 in /usr/local/lib/python3.10/dist-packages (from torch) (11.4.5.107)\n",
            "Requirement already satisfied: nvidia-cusparse-cu12==12.1.0.106 in /usr/local/lib/python3.10/dist-packages (from torch) (12.1.0.106)\n",
            "Requirement already satisfied: nvidia-nccl-cu12==2.19.3 in /usr/local/lib/python3.10/dist-packages (from torch) (2.19.3)\n",
            "Requirement already satisfied: nvidia-nvtx-cu12==12.1.105 in /usr/local/lib/python3.10/dist-packages (from torch) (12.1.105)\n",
            "Requirement already satisfied: triton==2.2.0 in /usr/local/lib/python3.10/dist-packages (from torch) (2.2.0)\n",
            "Requirement already satisfied: nvidia-nvjitlink-cu12 in /usr/local/lib/python3.10/dist-packages (from nvidia-cusolver-cu12==11.4.5.107->torch) (12.4.127)\n",
            "Requirement already satisfied: altair<6,>=4.0 in /usr/local/lib/python3.10/dist-packages (from streamlit) (4.2.2)\n",
            "Requirement already satisfied: blinker<2,>=1.0.0 in /usr/lib/python3/dist-packages (from streamlit) (1.4)\n",
            "Requirement already satisfied: cachetools<6,>=4.0 in /usr/local/lib/python3.10/dist-packages (from streamlit) (5.3.3)\n",
            "Requirement already satisfied: click<9,>=7.0 in /usr/local/lib/python3.10/dist-packages (from streamlit) (8.1.7)\n",
            "Requirement already satisfied: pandas<3,>=1.3.0 in /usr/local/lib/python3.10/dist-packages (from streamlit) (2.0.3)\n",
            "Requirement already satisfied: protobuf<5,>=3.20 in /usr/local/lib/python3.10/dist-packages (from streamlit) (3.20.3)\n",
            "Requirement already satisfied: pyarrow>=7.0 in /usr/local/lib/python3.10/dist-packages (from streamlit) (14.0.2)\n",
            "Requirement already satisfied: rich<14,>=10.14.0 in /usr/local/lib/python3.10/dist-packages (from streamlit) (13.7.1)\n",
            "Requirement already satisfied: tenacity<9,>=8.1.0 in /usr/local/lib/python3.10/dist-packages (from streamlit) (8.2.3)\n",
            "Requirement already satisfied: toml<2,>=0.10.1 in /usr/local/lib/python3.10/dist-packages (from streamlit) (0.10.2)\n",
            "Requirement already satisfied: gitpython!=3.1.19,<4,>=3.0.7 in /usr/local/lib/python3.10/dist-packages (from streamlit) (3.1.43)\n",
            "Requirement already satisfied: pydeck<1,>=0.8.0b4 in /usr/local/lib/python3.10/dist-packages (from streamlit) (0.9.0)\n",
            "Requirement already satisfied: tornado<7,>=6.0.3 in /usr/local/lib/python3.10/dist-packages (from streamlit) (6.3.3)\n",
            "Requirement already satisfied: watchdog>=2.1.5 in /usr/local/lib/python3.10/dist-packages (from streamlit) (4.0.0)\n",
            "Requirement already satisfied: entrypoints in /usr/local/lib/python3.10/dist-packages (from altair<6,>=4.0->streamlit) (0.4)\n",
            "Requirement already satisfied: jsonschema>=3.0 in /usr/local/lib/python3.10/dist-packages (from altair<6,>=4.0->streamlit) (4.19.2)\n",
            "Requirement already satisfied: toolz in /usr/local/lib/python3.10/dist-packages (from altair<6,>=4.0->streamlit) (0.12.1)\n",
            "Requirement already satisfied: gitdb<5,>=4.0.1 in /usr/local/lib/python3.10/dist-packages (from gitpython!=3.1.19,<4,>=3.0.7->streamlit) (4.0.11)\n",
            "Requirement already satisfied: python-dateutil>=2.8.2 in /usr/local/lib/python3.10/dist-packages (from pandas<3,>=1.3.0->streamlit) (2.8.2)\n",
            "Requirement already satisfied: pytz>=2020.1 in /usr/local/lib/python3.10/dist-packages (from pandas<3,>=1.3.0->streamlit) (2023.4)\n",
            "Requirement already satisfied: tzdata>=2022.1 in /usr/local/lib/python3.10/dist-packages (from pandas<3,>=1.3.0->streamlit) (2024.1)\n",
            "Requirement already satisfied: MarkupSafe>=2.0 in /usr/local/lib/python3.10/dist-packages (from jinja2->torch) (2.1.5)\n",
            "Requirement already satisfied: charset-normalizer<4,>=2 in /usr/local/lib/python3.10/dist-packages (from requests->diffusers) (3.3.2)\n",
            "Requirement already satisfied: idna<4,>=2.5 in /usr/local/lib/python3.10/dist-packages (from requests->diffusers) (3.7)\n",
            "Requirement already satisfied: urllib3<3,>=1.21.1 in /usr/local/lib/python3.10/dist-packages (from requests->diffusers) (2.0.7)\n",
            "Requirement already satisfied: certifi>=2017.4.17 in /usr/local/lib/python3.10/dist-packages (from requests->diffusers) (2024.2.2)\n",
            "Requirement already satisfied: markdown-it-py>=2.2.0 in /usr/local/lib/python3.10/dist-packages (from rich<14,>=10.14.0->streamlit) (3.0.0)\n",
            "Requirement already satisfied: pygments<3.0.0,>=2.13.0 in /usr/local/lib/python3.10/dist-packages (from rich<14,>=10.14.0->streamlit) (2.16.1)\n",
            "Requirement already satisfied: zipp>=0.5 in /usr/local/lib/python3.10/dist-packages (from importlib-metadata->diffusers) (3.18.1)\n",
            "Requirement already satisfied: mpmath>=0.19 in /usr/local/lib/python3.10/dist-packages (from sympy->torch) (1.3.0)\n",
            "Requirement already satisfied: smmap<6,>=3.0.1 in /usr/local/lib/python3.10/dist-packages (from gitdb<5,>=4.0.1->gitpython!=3.1.19,<4,>=3.0.7->streamlit) (5.0.1)\n",
            "Requirement already satisfied: attrs>=22.2.0 in /usr/local/lib/python3.10/dist-packages (from jsonschema>=3.0->altair<6,>=4.0->streamlit) (23.2.0)\n",
            "Requirement already satisfied: jsonschema-specifications>=2023.03.6 in /usr/local/lib/python3.10/dist-packages (from jsonschema>=3.0->altair<6,>=4.0->streamlit) (2023.12.1)\n",
            "Requirement already satisfied: referencing>=0.28.4 in /usr/local/lib/python3.10/dist-packages (from jsonschema>=3.0->altair<6,>=4.0->streamlit) (0.35.0)\n",
            "Requirement already satisfied: rpds-py>=0.7.1 in /usr/local/lib/python3.10/dist-packages (from jsonschema>=3.0->altair<6,>=4.0->streamlit) (0.18.0)\n",
            "Requirement already satisfied: mdurl~=0.1 in /usr/local/lib/python3.10/dist-packages (from markdown-it-py>=2.2.0->rich<14,>=10.14.0->streamlit) (0.1.2)\n",
            "Requirement already satisfied: six>=1.5 in /usr/local/lib/python3.10/dist-packages (from python-dateutil>=2.8.2->pandas<3,>=1.3.0->streamlit) (1.16.0)\n"
          ]
        }
      ],
      "source": [
        "!pip install diffusers transformers scipy ftfy accelerate torch torchvision np opencv-python streamlit"
      ]
    },
    {
      "cell_type": "markdown",
      "source": [
        "#Hugging Face Setup"
      ],
      "metadata": {
        "id": "0wu-C63erGuw"
      }
    },
    {
      "cell_type": "code",
      "source": [
        "import os\n",
        "import getpass\n",
        "\n",
        "# Securely input the API token\n",
        "api_token = getpass.getpass(\"Enter your API token:\")\n",
        "os.environ[\"HF_TOKEN\"] = api_token"
      ],
      "metadata": {
        "colab": {
          "base_uri": "https://localhost:8080/"
        },
        "id": "4Au_xHFa_19o",
        "outputId": "9af8a763-07e6-4a94-d91e-99528b7d138e"
      },
      "execution_count": null,
      "outputs": [
        {
          "name": "stdout",
          "output_type": "stream",
          "text": [
            "Enter your API token:··········\n"
          ]
        }
      ]
    },
    {
      "cell_type": "markdown",
      "source": [
        "# Clear CUDA cache"
      ],
      "metadata": {
        "id": "Pd0m4JU4Uyx-"
      }
    },
    {
      "cell_type": "code",
      "source": [
        "import torch\n",
        "torch.cuda.empty_cache()\n"
      ],
      "metadata": {
        "id": "N1Jj2olJUyPS"
      },
      "execution_count": null,
      "outputs": []
    },
    {
      "cell_type": "markdown",
      "source": [
        "# Facial Expression Recognition Functions"
      ],
      "metadata": {
        "id": "9hlA7jukuIv4"
      }
    },
    {
      "cell_type": "code",
      "source": [
        "import numpy as np\n",
        "import math\n",
        "import cv2 as cv2\n",
        "import time as time\n",
        "\n",
        "image_mean = np.array([127, 127, 127])\n",
        "image_std = 128.0\n",
        "iou_threshold = 0.3\n",
        "center_variance = 0.1\n",
        "size_variance = 0.2\n",
        "min_boxes = [\n",
        "    [10.0, 16.0, 24.0],\n",
        "    [32.0, 48.0],\n",
        "    [64.0, 96.0],\n",
        "    [128.0, 192.0, 256.0]\n",
        "]\n",
        "strides = [8.0, 16.0, 32.0, 64.0]\n",
        "threshold = 0.5"
      ],
      "metadata": {
        "id": "WsNmAw7_vmEP"
      },
      "execution_count": null,
      "outputs": []
    },
    {
      "cell_type": "code",
      "source": [
        "def generate_priors(feature_map_list, shrinkage_list, image_size, min_boxes):\n",
        "    priors = []\n",
        "    for index in range(0, len(feature_map_list[0])):\n",
        "        scale_w = image_size[0] / shrinkage_list[0][index]\n",
        "        scale_h = image_size[1] / shrinkage_list[1][index]\n",
        "        for j in range(0, feature_map_list[1][index]):\n",
        "            for i in range(0, feature_map_list[0][index]):\n",
        "                x_center = (i + 0.5) / scale_w\n",
        "                y_center = (j + 0.5) / scale_h\n",
        "\n",
        "                for min_box in min_boxes[index]:\n",
        "                    w = min_box / image_size[0]\n",
        "                    h = min_box / image_size[1]\n",
        "                    priors.append([\n",
        "                        x_center,\n",
        "                        y_center,\n",
        "                        w,\n",
        "                        h\n",
        "                    ])\n",
        "    print(\"priors nums:{}\".format(len(priors)))\n",
        "    return np.clip(priors, 0.0, 1.0)"
      ],
      "metadata": {
        "id": "T5kTIbUayQTy"
      },
      "execution_count": null,
      "outputs": []
    },
    {
      "cell_type": "code",
      "source": [
        "def define_img_size(image_size):\n",
        "    shrinkage_list = []\n",
        "    feature_map_w_h_list = []\n",
        "    for size in image_size:\n",
        "        feature_map = [int(math.ceil(size / stride)) for stride in strides]\n",
        "        feature_map_w_h_list.append(feature_map)\n",
        "\n",
        "    for i in range(0, len(image_size)):\n",
        "        shrinkage_list.append(strides)\n",
        "    priors = generate_priors(\n",
        "        feature_map_w_h_list, shrinkage_list, image_size, min_boxes\n",
        "    )\n",
        "    return priors"
      ],
      "metadata": {
        "id": "KxT-PFnbxQKZ"
      },
      "execution_count": null,
      "outputs": []
    },
    {
      "cell_type": "code",
      "source": [
        "def area_of(left_top, right_bottom):\n",
        "    hw = np.clip(right_bottom - left_top, 0.0, None)\n",
        "    return hw[..., 0] * hw[..., 1]\n",
        "\n",
        "\n",
        "def iou_of(boxes0, boxes1, eps=1e-5):\n",
        "    overlap_left_top = np.maximum(boxes0[..., :2], boxes1[..., :2])\n",
        "    overlap_right_bottom = np.minimum(boxes0[..., 2:], boxes1[..., 2:])\n",
        "\n",
        "    overlap_area = area_of(overlap_left_top, overlap_right_bottom)\n",
        "    area0 = area_of(boxes0[..., :2], boxes0[..., 2:])\n",
        "    area1 = area_of(boxes1[..., :2], boxes1[..., 2:])\n",
        "    return overlap_area / (area0 + area1 - overlap_area + eps)"
      ],
      "metadata": {
        "id": "Z0f9Bb3vzG9O"
      },
      "execution_count": null,
      "outputs": []
    },
    {
      "cell_type": "code",
      "source": [
        "def hard_nms(box_scores, iou_threshold, top_k=-1, candidate_size=200):\n",
        "    scores = box_scores[:, -1]\n",
        "    boxes = box_scores[:, :-1]\n",
        "    picked = []\n",
        "    indexes = np.argsort(scores)\n",
        "    indexes = indexes[-candidate_size:]\n",
        "    while len(indexes) > 0:\n",
        "        current = indexes[-1]\n",
        "        picked.append(current)\n",
        "        if 0 < top_k == len(picked) or len(indexes) == 1:\n",
        "            break\n",
        "        current_box = boxes[current, :]\n",
        "        indexes = indexes[:-1]\n",
        "        rest_boxes = boxes[indexes, :]\n",
        "        iou = iou_of(\n",
        "            rest_boxes,\n",
        "            np.expand_dims(current_box, axis=0),\n",
        "        )\n",
        "        indexes = indexes[iou <= iou_threshold]\n",
        "    return box_scores[picked, :]"
      ],
      "metadata": {
        "id": "Gsb0kCglzCSw"
      },
      "execution_count": null,
      "outputs": []
    },
    {
      "cell_type": "code",
      "source": [
        "def predict(\n",
        "    width,\n",
        "    height,\n",
        "    confidences,\n",
        "    boxes,\n",
        "    prob_threshold,\n",
        "    iou_threshold=0.3,\n",
        "    top_k=-1\n",
        "):\n",
        "    boxes = boxes[0]\n",
        "    confidences = confidences[0]\n",
        "    picked_box_probs = []\n",
        "    picked_labels = []\n",
        "    for class_index in range(1, confidences.shape[1]):\n",
        "        probs = confidences[:, class_index]\n",
        "        mask = probs > prob_threshold\n",
        "        probs = probs[mask]\n",
        "        if probs.shape[0] == 0:\n",
        "            continue\n",
        "        subset_boxes = boxes[mask, :]\n",
        "        box_probs = np.concatenate(\n",
        "            [subset_boxes, probs.reshape(-1, 1)], axis=1\n",
        "        )\n",
        "        box_probs = hard_nms(box_probs,\n",
        "                             iou_threshold=iou_threshold,\n",
        "                             top_k=top_k,\n",
        "                             )\n",
        "        picked_box_probs.append(box_probs)\n",
        "        picked_labels.extend([class_index] * box_probs.shape[0])\n",
        "    if not picked_box_probs:\n",
        "        return np.array([]), np.array([]), np.array([])\n",
        "    picked_box_probs = np.concatenate(picked_box_probs)\n",
        "    picked_box_probs[:, 0] *= width\n",
        "    picked_box_probs[:, 1] *= height\n",
        "    picked_box_probs[:, 2] *= width\n",
        "    picked_box_probs[:, 3] *= height\n",
        "    return (\n",
        "        picked_box_probs[:, :4].astype(np.int32),\n",
        "        np.array(picked_labels),\n",
        "        picked_box_probs[:, 4]\n",
        "    )"
      ],
      "metadata": {
        "id": "Aoz9WhagzIlr"
      },
      "execution_count": null,
      "outputs": []
    },
    {
      "cell_type": "code",
      "source": [
        "def convert_locations_to_boxes(locations, priors, center_variance,\n",
        "                               size_variance):\n",
        "    if len(priors.shape) + 1 == len(locations.shape):\n",
        "        priors = np.expand_dims(priors, 0)\n",
        "    return np.concatenate([\n",
        "        locations[..., :2] * center_variance * priors[..., 2:] + priors[..., :2],\n",
        "        np.exp(locations[..., 2:] * size_variance) * priors[..., 2:]\n",
        "    ], axis=len(locations.shape) - 1)\n",
        "\n",
        "\n",
        "def center_form_to_corner_form(locations):\n",
        "    return np.concatenate(\n",
        "        [locations[..., :2] - locations[..., 2:] / 2,\n",
        "         locations[..., :2] + locations[..., 2:] / 2],\n",
        "        len(locations.shape) - 1\n",
        "    )"
      ],
      "metadata": {
        "id": "JCCHOR7cz_w6"
      },
      "execution_count": null,
      "outputs": []
    },
    {
      "cell_type": "code",
      "source": [
        "import urllib.request\n",
        "from pathlib import Path\n",
        "\n",
        "import streamlit as st\n",
        "\n",
        "\n",
        "# This code is based on https://github.com/streamlit/demo-self-driving/blob/230245391f2dda0cb464008195a470751c01770b/streamlit_app.py#L48  # noqa: E501\n",
        "# and I, Emma, ripped this from https://huggingface.co/spaces/sadimanna/face-emotion-recognition/\n",
        "\n",
        "def download_file(url, download_to: Path, expected_size=None):\n",
        "    # Don't download the file twice.\n",
        "    # (If possible, verify the download using the file length.)\n",
        "    if download_to.exists():\n",
        "        if expected_size:\n",
        "            if download_to.stat().st_size == expected_size:\n",
        "                return\n",
        "        else:\n",
        "            st.info(f\"{url} is already downloaded.\")\n",
        "            if not st.button(\"Download again?\"):\n",
        "                return\n",
        "\n",
        "    download_to.parent.mkdir(parents=True, exist_ok=True)\n",
        "\n",
        "    # These are handles to two visual elements to animate.\n",
        "    weights_warning, progress_bar = None, None\n",
        "    try:\n",
        "        weights_warning = st.warning(\"Downloading %s...\" % url)\n",
        "        progress_bar = st.progress(0)\n",
        "        with open(download_to, \"wb\") as output_file:\n",
        "            with urllib.request.urlopen(url) as response:\n",
        "                length = int(response.info()[\"Content-Length\"])\n",
        "                counter = 0.0\n",
        "                MEGABYTES = 2.0 ** 20.0\n",
        "                while True:\n",
        "                    data = response.read(8192)\n",
        "                    if not data:\n",
        "                        break\n",
        "                    counter += len(data)\n",
        "                    output_file.write(data)\n",
        "\n",
        "                    # We perform animation by overwriting the elements.\n",
        "                    weights_warning.warning(\n",
        "                        \"Downloading %s... (%6.2f/%6.2f MB)\"\n",
        "                        % (url, counter / MEGABYTES, length / MEGABYTES)\n",
        "                    )\n",
        "                    progress_bar.progress(min(counter / length, 1.0))\n",
        "    # Finally, we remove these visual elements by calling .empty().\n",
        "    finally:\n",
        "        if weights_warning is not None:\n",
        "            weights_warning.empty()\n",
        "        if progress_bar is not None:\n",
        "            progress_bar.empty()"
      ],
      "metadata": {
        "id": "-7wkzsfP8sp2"
      },
      "execution_count": null,
      "outputs": []
    },
    {
      "cell_type": "code",
      "source": [
        "HERE = Path.cwd()\n",
        "ROOT = HERE\n",
        "\n",
        "ONNX_MODEL_URL = \"https://github.com/spmallick/learnopencv/raw/master/Facial-Emotion-Recognition/emotion-ferplus-8.onnx\"\n",
        "ONNX_MODEL_LOCAL_PATH = ROOT / \"./emotion-ferplus-8.onnx\"\n",
        "CAFFE_MODEL_URL = \"https://github.com/spmallick/learnopencv/raw/master/Facial-Emotion-Recognition/RFB-320/RFB-320.caffemodel\"  # noqa: E501\n",
        "CAFFE_MODEL_LOCAL_PATH = ROOT / \"./RFB-320/RFB-320.caffemodel\"\n",
        "PROTOTXT_URL = \"https://github.com/spmallick/learnopencv/raw/master/Facial-Emotion-Recognition/RFB-320/RFB-320.prototxt\"  # noqa: E501\n",
        "PROTOTXT_LOCAL_PATH = ROOT / \"./RFB-320/RFB-320.prototxt\"\n",
        "\n",
        "download_file(CAFFE_MODEL_URL, CAFFE_MODEL_LOCAL_PATH) #, expected_size=23147564)\n",
        "download_file(ONNX_MODEL_URL, ONNX_MODEL_LOCAL_PATH) #, expected_size=23147564)\n",
        "download_file(PROTOTXT_URL, PROTOTXT_LOCAL_PATH) #, expected_size=29353)"
      ],
      "metadata": {
        "id": "ifyIFtvm8ZF4"
      },
      "execution_count": null,
      "outputs": []
    },
    {
      "cell_type": "markdown",
      "source": [
        "# Live Camera Capture"
      ],
      "metadata": {
        "id": "h7MB03ztJZXp"
      }
    },
    {
      "cell_type": "code",
      "source": [
        "def FER_live_cam():\n",
        "    emotion_dict = {\n",
        "        0: 'neutral',\n",
        "        1: 'happiness',\n",
        "        2: 'surprise',\n",
        "        3: 'sadness',\n",
        "        4: 'anger',\n",
        "        5: 'disgust',\n",
        "        6: 'fear'\n",
        "    }\n",
        "\n",
        "    # cap = cv2.VideoCapture('video1.mp4')\n",
        "    cap = cv2.VideoCapture(0)\n",
        "\n",
        "    frame_width = int(cap.get(3))\n",
        "    frame_height = int(cap.get(4))\n",
        "    size = (frame_width, frame_height)\n",
        "    result = cv2.VideoWriter('result.avi',\n",
        "                         cv2.VideoWriter_fourcc(*'MJPG'),\n",
        "                         10, size)\n",
        "\n",
        "    # Read ONNX model\n",
        "    # model = 'onnx_model.onnx'\n",
        "    model = cv2.dnn.readNetFromONNX('emotion-ferplus-8.onnx')\n",
        "\n",
        "    # Read the Caffe face detector.\n",
        "    model_path = 'RFB-320/RFB-320.caffemodel'\n",
        "    proto_path = 'RFB-320/RFB-320.prototxt'\n",
        "    net = cv2.dnn.readNetFromCaffe(proto_path, model_path)\n",
        "    input_size = [320, 240]\n",
        "    width = input_size[0]\n",
        "    height = input_size[1]\n",
        "    priors = define_img_size(input_size)\n",
        "\n",
        "    while cap.isOpened():\n",
        "        ret, frame = cap.read()\n",
        "        if ret:\n",
        "            img_ori = frame\n",
        "            #print(\"frame size: \", frame.shape)\n",
        "            rect = cv2.resize(img_ori, (width, height))\n",
        "            rect = cv2.cvtColor(rect, cv2.COLOR_BGR2RGB)\n",
        "            net.setInput(cv2.dnn.blobFromImage(\n",
        "                rect, 1 / image_std, (width, height), 127)\n",
        "            )\n",
        "            start_time = time.time()\n",
        "            boxes, scores = net.forward([\"boxes\", \"scores\"])\n",
        "            boxes = np.expand_dims(np.reshape(boxes, (-1, 4)), axis=0)\n",
        "            scores = np.expand_dims(np.reshape(scores, (-1, 2)), axis=0)\n",
        "            boxes = convert_locations_to_boxes(\n",
        "                boxes, priors, center_variance, size_variance\n",
        "            )\n",
        "            boxes = center_form_to_corner_form(boxes)\n",
        "            boxes, labels, probs = predict(\n",
        "                img_ori.shape[1],\n",
        "                img_ori.shape[0],\n",
        "                scores,\n",
        "                boxes,\n",
        "                threshold\n",
        "            )\n",
        "            gray = cv2.cvtColor(frame, cv2.COLOR_BGR2GRAY)\n",
        "            for (x1, y1, x2, y2) in boxes:\n",
        "                w = x2 - x1\n",
        "                h = y2 - y1\n",
        "                cv2.rectangle(frame, (x1,y1), (x2, y2), (255,0,0), 2)\n",
        "                resize_frame = cv2.resize(\n",
        "                    gray[y1:y1 + h, x1:x1 + w], (64, 64)\n",
        "                )\n",
        "                resize_frame = resize_frame.reshape(1, 1, 64, 64)\n",
        "                model.setInput(resize_frame)\n",
        "                output = model.forward()\n",
        "                end_time = time.time()\n",
        "                fps = 1 / (end_time - start_time)\n",
        "                print(f\"FPS: {fps:.1f}\")\n",
        "                pred = emotion_dict[list(output[0]).index(max(output[0]))]\n",
        "                cv2.rectangle(\n",
        "                    img_ori,\n",
        "                    (x1, y1),\n",
        "                    (x2, y2),\n",
        "                    (0, 255, 0),\n",
        "                    2,\n",
        "                    lineType=cv2.LINE_AA\n",
        "                )\n",
        "                cv2.putText(\n",
        "                    frame,\n",
        "                    pred,\n",
        "                    (x1, y1),\n",
        "                    cv2.FONT_HERSHEY_SIMPLEX,\n",
        "                    0.8,\n",
        "                    (0, 255, 0),\n",
        "                    2,\n",
        "                    lineType=cv2.LINE_AA\n",
        "                )\n",
        "\n",
        "            result.write(frame)\n",
        "\n",
        "            cv2.imshow('frame', frame)\n",
        "            if cv2.waitKey(1) & 0xFF == ord('q'):\n",
        "                break\n",
        "        else:\n",
        "            break\n",
        "\n",
        "    cap.release()\n",
        "    result.release()\n",
        "    cv2.destroyAllWindows()"
      ],
      "metadata": {
        "id": "mqFBfGfu0iYI"
      },
      "execution_count": null,
      "outputs": []
    },
    {
      "cell_type": "code",
      "source": [],
      "metadata": {
        "colab": {
          "base_uri": "https://localhost:8080/"
        },
        "id": "obOoWp7q01et",
        "outputId": "95e4f810-24da-4e7a-954f-56364267c58e"
      },
      "execution_count": null,
      "outputs": [
        {
          "output_type": "stream",
          "name": "stdout",
          "text": [
            "priors nums:4420\n"
          ]
        }
      ]
    },
    {
      "cell_type": "code",
      "source": [],
      "metadata": {
        "id": "Y_Lv_izc7vfZ"
      },
      "execution_count": null,
      "outputs": []
    }
  ]
}